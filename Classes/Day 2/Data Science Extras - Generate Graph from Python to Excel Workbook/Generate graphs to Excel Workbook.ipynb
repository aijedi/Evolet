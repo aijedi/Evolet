{
 "cells": [
  {
   "cell_type": "code",
   "execution_count": 3,
   "metadata": {},
   "outputs": [],
   "source": [
    "#!pip install xlsxwriter"
   ]
  },
  {
   "cell_type": "code",
   "execution_count": 4,
   "metadata": {},
   "outputs": [],
   "source": [
    "import xlsxwriter\n",
    "import random"
   ]
  },
  {
   "cell_type": "markdown",
   "metadata": {},
   "source": [
    "#### Example data\n",
    "- Try to do as much processing outside of initializing the workbook\n",
    "- Everything beetween Workbook() and close() gets trapped in an exception"
   ]
  },
  {
   "cell_type": "code",
   "execution_count": 5,
   "metadata": {},
   "outputs": [],
   "source": [
    "random_data = [random.random() for _ in range(10)]\n",
    "# Data location inside excel\n",
    "data_start_loc = [0, 0] # xlsxwriter rquires list, no tuple\n",
    "data_end_loc = [data_start_loc[0] + len(random_data), 0]"
   ]
  },
  {
   "cell_type": "code",
   "execution_count": 6,
   "metadata": {},
   "outputs": [],
   "source": [
    "workbook = xlsxwriter.Workbook('file.xlsx')"
   ]
  },
  {
   "cell_type": "markdown",
   "metadata": {},
   "source": [
    "#### Charts are independent of worksheets"
   ]
  },
  {
   "cell_type": "code",
   "execution_count": 7,
   "metadata": {},
   "outputs": [],
   "source": [
    "chart = workbook.add_chart({'type': 'line'})\n",
    "chart.set_y_axis({'name': 'Random jiggly bit values'})\n",
    "chart.set_x_axis({'name': 'Sequential order'})\n",
    "chart.set_title({'name': 'Insecure randomly jiggly bits'})\n",
    "\n",
    "worksheet = workbook.add_worksheet()"
   ]
  },
  {
   "cell_type": "markdown",
   "metadata": {},
   "source": [
    "#### A chart requires data to reference data inside excel"
   ]
  },
  {
   "cell_type": "code",
   "execution_count": 8,
   "metadata": {},
   "outputs": [],
   "source": [
    "worksheet.write_column(*data_start_loc, data=random_data)\n",
    "# The chart needs to explicitly reference data\n",
    "chart.add_series({\n",
    "    'values': [worksheet.name] + data_start_loc + data_end_loc,\n",
    "    'name': \"Random data\",\n",
    "})\n",
    "worksheet.insert_chart('B1', chart)\n",
    "\n",
    "workbook.close()"
   ]
  }
 ],
 "metadata": {
  "kernelspec": {
   "display_name": "Python 3",
   "language": "python",
   "name": "python3"
  },
  "language_info": {
   "codemirror_mode": {
    "name": "ipython",
    "version": 3
   },
   "file_extension": ".py",
   "mimetype": "text/x-python",
   "name": "python",
   "nbconvert_exporter": "python",
   "pygments_lexer": "ipython3",
   "version": "3.6.9"
  }
 },
 "nbformat": 4,
 "nbformat_minor": 2
}
