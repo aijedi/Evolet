{
 "cells": [
  {
   "cell_type": "code",
   "execution_count": 1,
   "metadata": {},
   "outputs": [],
   "source": [
    "import pandas as pd"
   ]
  },
  {
   "cell_type": "code",
   "execution_count": 65,
   "metadata": {
    "scrolled": true
   },
   "outputs": [
    {
     "data": {
      "text/html": [
       "<div>\n",
       "<style scoped>\n",
       "    .dataframe tbody tr th:only-of-type {\n",
       "        vertical-align: middle;\n",
       "    }\n",
       "\n",
       "    .dataframe tbody tr th {\n",
       "        vertical-align: top;\n",
       "    }\n",
       "\n",
       "    .dataframe thead th {\n",
       "        text-align: right;\n",
       "    }\n",
       "</style>\n",
       "<table border=\"1\" class=\"dataframe\">\n",
       "  <thead>\n",
       "    <tr style=\"text-align: right;\">\n",
       "      <th></th>\n",
       "      <th>Year</th>\n",
       "      <th>Month</th>\n",
       "      <th>Product Tag</th>\n",
       "      <th>BRAND</th>\n",
       "      <th>PACKAGE</th>\n",
       "      <th>Sales Value</th>\n",
       "      <th>Number_Units</th>\n",
       "      <th>WAP</th>\n",
       "      <th>Volume_Sales</th>\n",
       "    </tr>\n",
       "  </thead>\n",
       "  <tbody>\n",
       "    <tr>\n",
       "      <th>0</th>\n",
       "      <td>2016</td>\n",
       "      <td>APR</td>\n",
       "      <td>Product Tag 1</td>\n",
       "      <td>BRAND 1</td>\n",
       "      <td>PACKAGE 1</td>\n",
       "      <td>0.0</td>\n",
       "      <td>0.0</td>\n",
       "      <td>NaN</td>\n",
       "      <td>NaN</td>\n",
       "    </tr>\n",
       "    <tr>\n",
       "      <th>1</th>\n",
       "      <td>2016</td>\n",
       "      <td>APR</td>\n",
       "      <td>Product Tag 2</td>\n",
       "      <td>BRAND 2</td>\n",
       "      <td>PACKAGE 2</td>\n",
       "      <td>0.0</td>\n",
       "      <td>0.0</td>\n",
       "      <td>NaN</td>\n",
       "      <td>NaN</td>\n",
       "    </tr>\n",
       "    <tr>\n",
       "      <th>2</th>\n",
       "      <td>2016</td>\n",
       "      <td>APR</td>\n",
       "      <td>Product Tag 3</td>\n",
       "      <td>BRAND 3</td>\n",
       "      <td>PACKAGE 1</td>\n",
       "      <td>0.0</td>\n",
       "      <td>0.0</td>\n",
       "      <td>NaN</td>\n",
       "      <td>NaN</td>\n",
       "    </tr>\n",
       "    <tr>\n",
       "      <th>3</th>\n",
       "      <td>2016</td>\n",
       "      <td>APR</td>\n",
       "      <td>Product Tag 4</td>\n",
       "      <td>BRAND 4</td>\n",
       "      <td>PACKAGE 1</td>\n",
       "      <td>0.0</td>\n",
       "      <td>0.0</td>\n",
       "      <td>NaN</td>\n",
       "      <td>NaN</td>\n",
       "    </tr>\n",
       "    <tr>\n",
       "      <th>4</th>\n",
       "      <td>2016</td>\n",
       "      <td>APR</td>\n",
       "      <td>Product Tag 5</td>\n",
       "      <td>BRAND 5</td>\n",
       "      <td>PACKAGE 1</td>\n",
       "      <td>0.0</td>\n",
       "      <td>0.0</td>\n",
       "      <td>NaN</td>\n",
       "      <td>NaN</td>\n",
       "    </tr>\n",
       "  </tbody>\n",
       "</table>\n",
       "</div>"
      ],
      "text/plain": [
       "   Year Month    Product Tag    BRAND    PACKAGE  Sales Value  Number_Units  \\\n",
       "0  2016   APR  Product Tag 1  BRAND 1  PACKAGE 1          0.0           0.0   \n",
       "1  2016   APR  Product Tag 2  BRAND 2  PACKAGE 2          0.0           0.0   \n",
       "2  2016   APR  Product Tag 3  BRAND 3  PACKAGE 1          0.0           0.0   \n",
       "3  2016   APR  Product Tag 4  BRAND 4  PACKAGE 1          0.0           0.0   \n",
       "4  2016   APR  Product Tag 5  BRAND 5  PACKAGE 1          0.0           0.0   \n",
       "\n",
       "   WAP  Volume_Sales  \n",
       "0  NaN           NaN  \n",
       "1  NaN           NaN  \n",
       "2  NaN           NaN  \n",
       "3  NaN           NaN  \n",
       "4  NaN           NaN  "
      ]
     },
     "execution_count": 65,
     "metadata": {},
     "output_type": "execute_result"
    }
   ],
   "source": [
    "df = pd.read_csv('ts.csv')\n",
    "df.head()"
   ]
  },
  {
   "cell_type": "code",
   "execution_count": 60,
   "metadata": {},
   "outputs": [],
   "source": [
    "from tqdm import tqdm\n",
    "\n",
    "def dummify_series(df, column_name):\n",
    "    manufacturer_dict = {}\n",
    "\n",
    "    #manufacturer_dict.keys = df['MANUFACTURER'].unique()\n",
    "    i = 1\n",
    "    for key in (df[column_name].unique()):   \n",
    "        manufacturer_dict[key] = column_name + ' ' + str(i)\n",
    "        i += 1\n",
    "    \n",
    "    return df[column_name].map(manufacturer_dict)"
   ]
  },
  {
   "cell_type": "code",
   "execution_count": 61,
   "metadata": {},
   "outputs": [],
   "source": [
    "def automate_dummify(df, cols):\n",
    "    for c in cols:\n",
    "        df[c] = dummify_series(df, c)\n",
    "    return df"
   ]
  },
  {
   "cell_type": "code",
   "execution_count": 64,
   "metadata": {},
   "outputs": [
    {
     "data": {
      "text/html": [
       "<div>\n",
       "<style scoped>\n",
       "    .dataframe tbody tr th:only-of-type {\n",
       "        vertical-align: middle;\n",
       "    }\n",
       "\n",
       "    .dataframe tbody tr th {\n",
       "        vertical-align: top;\n",
       "    }\n",
       "\n",
       "    .dataframe thead th {\n",
       "        text-align: right;\n",
       "    }\n",
       "</style>\n",
       "<table border=\"1\" class=\"dataframe\">\n",
       "  <thead>\n",
       "    <tr style=\"text-align: right;\">\n",
       "      <th></th>\n",
       "      <th>Year</th>\n",
       "      <th>Month</th>\n",
       "      <th>Product Tag</th>\n",
       "      <th>BRAND</th>\n",
       "      <th>PACKAGE</th>\n",
       "      <th>Sales Value</th>\n",
       "      <th>Number_Units</th>\n",
       "      <th>WAP</th>\n",
       "      <th>Volume_Sales</th>\n",
       "    </tr>\n",
       "  </thead>\n",
       "  <tbody>\n",
       "    <tr>\n",
       "      <th>0</th>\n",
       "      <td>2016</td>\n",
       "      <td>APR</td>\n",
       "      <td>Product Tag 1</td>\n",
       "      <td>BRAND 1</td>\n",
       "      <td>PACKAGE 1</td>\n",
       "      <td>0.0</td>\n",
       "      <td>0.0</td>\n",
       "      <td>NaN</td>\n",
       "      <td>NaN</td>\n",
       "    </tr>\n",
       "    <tr>\n",
       "      <th>1</th>\n",
       "      <td>2016</td>\n",
       "      <td>APR</td>\n",
       "      <td>Product Tag 2</td>\n",
       "      <td>BRAND 2</td>\n",
       "      <td>PACKAGE 2</td>\n",
       "      <td>0.0</td>\n",
       "      <td>0.0</td>\n",
       "      <td>NaN</td>\n",
       "      <td>NaN</td>\n",
       "    </tr>\n",
       "    <tr>\n",
       "      <th>2</th>\n",
       "      <td>2016</td>\n",
       "      <td>APR</td>\n",
       "      <td>Product Tag 3</td>\n",
       "      <td>BRAND 3</td>\n",
       "      <td>PACKAGE 1</td>\n",
       "      <td>0.0</td>\n",
       "      <td>0.0</td>\n",
       "      <td>NaN</td>\n",
       "      <td>NaN</td>\n",
       "    </tr>\n",
       "    <tr>\n",
       "      <th>3</th>\n",
       "      <td>2016</td>\n",
       "      <td>APR</td>\n",
       "      <td>Product Tag 4</td>\n",
       "      <td>BRAND 4</td>\n",
       "      <td>PACKAGE 1</td>\n",
       "      <td>0.0</td>\n",
       "      <td>0.0</td>\n",
       "      <td>NaN</td>\n",
       "      <td>NaN</td>\n",
       "    </tr>\n",
       "    <tr>\n",
       "      <th>4</th>\n",
       "      <td>2016</td>\n",
       "      <td>APR</td>\n",
       "      <td>Product Tag 5</td>\n",
       "      <td>BRAND 5</td>\n",
       "      <td>PACKAGE 1</td>\n",
       "      <td>0.0</td>\n",
       "      <td>0.0</td>\n",
       "      <td>NaN</td>\n",
       "      <td>NaN</td>\n",
       "    </tr>\n",
       "  </tbody>\n",
       "</table>\n",
       "</div>"
      ],
      "text/plain": [
       "   Year Month    Product Tag    BRAND    PACKAGE  Sales Value  Number_Units  \\\n",
       "0  2016   APR  Product Tag 1  BRAND 1  PACKAGE 1          0.0           0.0   \n",
       "1  2016   APR  Product Tag 2  BRAND 2  PACKAGE 2          0.0           0.0   \n",
       "2  2016   APR  Product Tag 3  BRAND 3  PACKAGE 1          0.0           0.0   \n",
       "3  2016   APR  Product Tag 4  BRAND 4  PACKAGE 1          0.0           0.0   \n",
       "4  2016   APR  Product Tag 5  BRAND 5  PACKAGE 1          0.0           0.0   \n",
       "\n",
       "   WAP  Volume_Sales  \n",
       "0  NaN           NaN  \n",
       "1  NaN           NaN  \n",
       "2  NaN           NaN  \n",
       "3  NaN           NaN  \n",
       "4  NaN           NaN  "
      ]
     },
     "execution_count": 64,
     "metadata": {},
     "output_type": "execute_result"
    }
   ],
   "source": [
    "df.head()"
   ]
  },
  {
   "cell_type": "code",
   "execution_count": 62,
   "metadata": {},
   "outputs": [
    {
     "data": {
      "text/plain": [
       "Index(['Year', 'Month', 'Product Tag', 'BRAND', 'PACKAGE', 'Sales Value',\n",
       "       'Number_Units', 'WAP', 'Volume_Sales'],\n",
       "      dtype='object')"
      ]
     },
     "execution_count": 62,
     "metadata": {},
     "output_type": "execute_result"
    }
   ],
   "source": [
    "df.columns"
   ]
  },
  {
   "cell_type": "code",
   "execution_count": 63,
   "metadata": {
    "scrolled": true
   },
   "outputs": [],
   "source": [
    "automate_dummify(df, cols=['Product Tag', 'BRAND', 'PACKAGE']).to_csv('dummified_ts.csv', index=False)"
   ]
  }
 ],
 "metadata": {
  "kernelspec": {
   "display_name": "Python 3",
   "language": "python",
   "name": "python3"
  },
  "language_info": {
   "codemirror_mode": {
    "name": "ipython",
    "version": 3
   },
   "file_extension": ".py",
   "mimetype": "text/x-python",
   "name": "python",
   "nbconvert_exporter": "python",
   "pygments_lexer": "ipython3",
   "version": "3.6.9"
  }
 },
 "nbformat": 4,
 "nbformat_minor": 2
}
